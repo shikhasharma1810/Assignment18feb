{
 "cells": [
  {
   "cell_type": "code",
   "execution_count": null,
   "id": "8ba954c2-c8da-4cf0-8ad0-ddc6120af224",
   "metadata": {},
   "outputs": [],
   "source": [
    "Q1. What is an API? Give an example, where an API is used in real life.\n",
    "\n",
    "API is application programming interface — a software intermediary that allows two applications to talk to each other. \n",
    "APIs are an accessible way to extract and share data within and across organizations.\n",
    "\n",
    "APIs are all around us. Every time we use a rideshare app, send a mobile payment, or change the thermostat temperature from\n",
    "the phone, we’re using an API.\n",
    "\n",
    "When we use one of the above apps, they connect to the Internet and send data to a server. The server then retrieves that \n",
    "data,interprets it, performs the necessary actions, and sends it back to the phone. The application then interprets that \n",
    "data and presents us with the information we wanted in a readable way. "
   ]
  },
  {
   "cell_type": "code",
   "execution_count": null,
   "id": "b228f3e6-ee44-4ebd-9bd4-ebce45a5e557",
   "metadata": {},
   "outputs": [],
   "source": [
    "Q2. Give advantages and disadvantages of using API.\n",
    "\n",
    "Advantages:- \n",
    "\n",
    "Automation: When using an API managed by computers, less human effort is required and workflows can be easily updated to \n",
    "become faster and more productive. Furthermore, new content and information can be published and shared with your entire \n",
    "audience quickly and efficiently across all channels. \n",
    "\n",
    "Developer efficiency and innovation: APIs empower developers to be more productive by reusing code in complex but repetitive\n",
    "processes. They don’t need to start from scratch as the API specifies how to assemble software components in a program. \n",
    "APIs exist to make it easy to interface with other developers' applications.\n",
    "\n",
    "Improved value proposition: By using APIs made available by companies such as Amazon, Salesforce, or Twitter, an application \n",
    "can integrate those services into their own systems to make themselves more attractive to customers.\n",
    "\n",
    "Challenges of using APIs:-\n",
    "\n",
    "APIs carry a number of watch-outs, too — the most important being security.\n",
    "\n",
    "Poor integration means that an API can be vulnerable to attacks, yet data breaches or losses have huge ramifications when\n",
    "it comes to the finances and reputation of a company. Attacks can also negatively affect the customers of an application as\n",
    "their data and information are compromised."
   ]
  },
  {
   "cell_type": "code",
   "execution_count": null,
   "id": "c7268d74-bd1e-42b6-882f-9fd13920feec",
   "metadata": {},
   "outputs": [],
   "source": [
    "Q3. What is a Web API? Differentiate between API and Web API.\n",
    "\n",
    "A Web API is an Application Programming Interface (API) that runs over the web. It's a system-to-system interaction that\n",
    "allows one system to access data from another. Web APIs are accessed using HTTP protocol.\n",
    "\n",
    "Both APIs and web services are technologies that enable the transfer of data between separate software applications. \n",
    "API is an interface that exposes an application's data to outside software, whereas web applications are one type of API with\n",
    "stricter requirements. Web APIs are a type of API that runs over the web. They're an application processing interface between\n",
    "a web server and web browser."
   ]
  },
  {
   "cell_type": "code",
   "execution_count": null,
   "id": "5b65f1f8-ebb1-4594-9c2d-21fd815b96e1",
   "metadata": {},
   "outputs": [],
   "source": [
    "Q4. Explain REST and SOAP Architecture. Mention shortcomings of SOAP.\n",
    "\n",
    "SOAP and REST are two different approaches to API design. REST is more flexible and allows applications to exchange data in\n",
    "multiple formats.The SOAP approach is highly structured and uses XML data format. \n",
    "\n",
    "Shortcomings of SOAP:-\n",
    "\n",
    "1. SOAP supports only XML data exchange.\n",
    "2. SOAP messages are larger, which makes communication slower.\n",
    "3. SOAP is difficult to scale. The server maintains state by storing all previous messages exchanged with a client."
   ]
  },
  {
   "cell_type": "code",
   "execution_count": null,
   "id": "6b7231e0-0de1-42c3-88ce-9e6e45f470f3",
   "metadata": {},
   "outputs": [],
   "source": [
    "Q5. Differentiate between REST and SOAP.\n",
    "\n",
    "SOAP is a protocol, while REST is an architectural style. This creates significant differences in how SOAP APIs and REST APIs\n",
    "behave.\n",
    "\n",
    "Design\n",
    "The SOAP API exposes functions or operations, while REST APIs are data-driven. For example, consider an application with \n",
    "employee data that other applications can manipulate. The application's SOAP API could expose a function called \n",
    "CreateEmployee. To create an employee, you would specify the function name in your SOAP message when sending a request.\n",
    "\n",
    "However, the application's REST API could expose a URL called /employees, and a POST request to that URL would create a new\n",
    "employee record.\n",
    "\n",
    "Flexibility\n",
    "SOAP APIs are rigid and only allow XML messaging between applications. The application server also has to maintain the state\n",
    "of each client. This means it has to remember all previous requests when processing a new request.\n",
    "\n",
    "REST is more flexible and allows applications to transfer data as plain text, HTML, XML, and JSON. REST is also stateless, so\n",
    "the REST API treats every new request independently of previous requests.\n",
    "\n",
    "Performance\n",
    "SOAP messages are larger and more complex, which makes them slower to transmit and process. This can increase page load times.\n",
    "\n",
    "REST is faster and more efficient than SOAP due to the smaller message sizes of REST. REST responses are also cacheable, so \n",
    "the server can store frequently accessed data in a cache for even shorter page load times.\n",
    "\n",
    "Scalability\n",
    "The SOAP protocol requires applications to store the state between requests, which increases bandwidth and memory \n",
    "requirements. As a result, it makes applications expensive and challenging to scale.\n",
    "\n",
    "Unlike SOAP, REST permits stateless and layered architecture, which makes it more scalable. For example, the application\n",
    "server can pass the request to other servers or allow an intermediary (like a content delivery network) to handle it.\n",
    "\n",
    "Security\n",
    "SOAP requires an additional layer of WS-Security to work with HTTPS. WS-Security uses additional header content to ensure \n",
    "only the designated process in the specified server reads the SOAP message content. This adds communication overheads and \n",
    "negatively impacts performance.\n",
    "\n",
    "REST supports HTTPS without additional overheads.\n",
    "\n",
    "Reliability\n",
    "SOAP has error handling logic built into it, and it provides more reliability. On the other hand, REST requires us to try \n",
    "again in case of communication failures, and it’s less reliable."
   ]
  }
 ],
 "metadata": {
  "kernelspec": {
   "display_name": "Python 3 (ipykernel)",
   "language": "python",
   "name": "python3"
  },
  "language_info": {
   "codemirror_mode": {
    "name": "ipython",
    "version": 3
   },
   "file_extension": ".py",
   "mimetype": "text/x-python",
   "name": "python",
   "nbconvert_exporter": "python",
   "pygments_lexer": "ipython3",
   "version": "3.10.8"
  }
 },
 "nbformat": 4,
 "nbformat_minor": 5
}
